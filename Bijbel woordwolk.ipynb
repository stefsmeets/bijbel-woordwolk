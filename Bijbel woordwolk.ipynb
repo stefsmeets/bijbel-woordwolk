{
 "cells": [
  {
   "cell_type": "code",
   "execution_count": null,
   "id": "9a8a69c2",
   "metadata": {},
   "outputs": [],
   "source": [
    "import wordcloud as wc\n",
    "import pandas as pd\n",
    "import matplotlib.pyplot as plt\n",
    "from collections import Counter"
   ]
  },
  {
   "cell_type": "markdown",
   "id": "0df40dd2-ff4f-49a0-bd7d-cf519b7a13d0",
   "metadata": {},
   "source": [
    "Make sure to download the model first using:\n",
    "\n",
    "`spacy download nl_core_news_sm`"
   ]
  },
  {
   "cell_type": "code",
   "execution_count": null,
   "id": "54a35491-c411-4ab8-a7f6-56434572debf",
   "metadata": {},
   "outputs": [],
   "source": [
    "import spacy\n",
    "nlp = spacy.load('nl_core_news_sm')"
   ]
  },
  {
   "cell_type": "markdown",
   "id": "504e3e22-163d-4037-a527-f8a20b422619",
   "metadata": {},
   "source": [
    "Load data from CSV file using pandas"
   ]
  },
  {
   "cell_type": "code",
   "execution_count": null,
   "id": "ae655a41",
   "metadata": {},
   "outputs": [],
   "source": [
    "df = pd.read_csv('data/BGT-Bijbel.csv', sep='|')\n",
    "\n",
    "books = df['book'].unique()\n",
    "print(books)\n",
    "\n",
    "old_books = books[:39]\n",
    "print(old_books)"
   ]
  },
  {
   "cell_type": "markdown",
   "id": "48904079-f318-4c46-b816-99d0d9ad61f5",
   "metadata": {},
   "source": [
    "Generate word counts"
   ]
  },
  {
   "cell_type": "code",
   "execution_count": null,
   "id": "f0c6b165",
   "metadata": {},
   "outputs": [],
   "source": [
    "poss = ('NOUN', 'PROPN', 'ADJ', 'VERB')\n",
    "\n",
    "def get_counts(book):\n",
    "    text = ' '.join(df[df['book'] == book]['text'])\n",
    "    doc = nlp(text)\n",
    "    tokens = (token.text for token in doc if token.pos_ in poss)\n",
    "    return Counter(tokens)\n",
    "\n",
    "# get_counts('Genesis').most_common(10)"
   ]
  },
  {
   "cell_type": "markdown",
   "id": "f22ae97a-970a-4143-8e2c-833280bdf4b2",
   "metadata": {},
   "source": [
    "Generate word clouds"
   ]
  },
  {
   "cell_type": "code",
   "execution_count": null,
   "id": "7f492f02-f789-4101-8d76-a8e35ee3f54a",
   "metadata": {},
   "outputs": [],
   "source": [
    "def get_wordcloud(counts, colormap='rainbow'):\n",
    "    wordcloud = wc.WordCloud(\n",
    "        width=800, \n",
    "        height=500, \n",
    "        colormap=colormap, \n",
    "        background_color=None,\n",
    "        mode='RGBA',\n",
    "    ).generate_from_frequencies(counts)\n",
    "    \n",
    "    return wordcloud"
   ]
  },
  {
   "cell_type": "markdown",
   "id": "2bc1f577-8382-4389-94d1-6a7808a1070d",
   "metadata": {},
   "source": [
    "Generate word clouds for all books using matplotlib and/or save them to svg "
   ]
  },
  {
   "cell_type": "code",
   "execution_count": null,
   "id": "1784436a",
   "metadata": {},
   "outputs": [],
   "source": [
    "plot = False\n",
    "svg = True\n",
    "\n",
    "old_counts = Counter()\n",
    "new_counts = Counter()\n",
    "\n",
    "for book in books:\n",
    "    counts = get_counts(book)\n",
    "    wordcloud = get_wordcloud(counts)\n",
    "\n",
    "    if book in old_books:\n",
    "        old_counts.update(counts)\n",
    "    else:\n",
    "        new_counts.update(counts)\n",
    "    \n",
    "    if plot:\n",
    "        fig, ax = plt.subplots(figsize=(6,6))\n",
    "    \n",
    "        ax.imshow(wordcloud, interpolation='bilinear')\n",
    "        ax.set_axis_off()\n",
    "        ax.set_title(book)\n",
    "        plt.show()\n",
    "    if svg:\n",
    "        with open(f'{book}.svg', 'w') as f:\n",
    "            f.write(wordcloud.to_svg(embed_font=True))\n",
    "        print(f'wrote {book}.svg' )   "
   ]
  },
  {
   "cell_type": "markdown",
   "id": "1d2cb594-ec17-42ea-bab2-f62fe762c034",
   "metadata": {},
   "source": [
    "Generate word cloud for the old testament, new testament, and the entire bible"
   ]
  },
  {
   "cell_type": "code",
   "execution_count": null,
   "id": "19573dcc-a13e-419f-806d-e5e689f20986",
   "metadata": {},
   "outputs": [],
   "source": [
    "svg = True\n",
    "plot = True\n",
    "\n",
    "for name, counts in (\n",
    "        ('old_testament', old_counts),\n",
    "        ('new_testament', new_counts),\n",
    "        ('bible', old_counts + new_counts),\n",
    "    ):\n",
    "    \n",
    "    wordcloud = get_wordcloud(counts, colormap='rainbow')\n",
    "    \n",
    "    if plot:\n",
    "        fig, ax = plt.subplots(figsize=(10,10))\n",
    "    \n",
    "        ax.imshow(wordcloud, interpolation='bilinear')\n",
    "        ax.set_axis_off()\n",
    "        ax.set_title(name.replace('_', ' ').capitalize())\n",
    "        plt.show()\n",
    "        \n",
    "    if svg:\n",
    "        with open(f'{name}.svg', 'w') as f:\n",
    "            f.write(wordcloud.to_svg(embed_font=True))\n",
    "        print(f'wrote {name}.svg' )"
   ]
  },
  {
   "cell_type": "code",
   "execution_count": null,
   "id": "06b6fe20-b73c-41fc-b716-7867bd131f3d",
   "metadata": {},
   "outputs": [],
   "source": []
  }
 ],
 "metadata": {
  "kernelspec": {
   "display_name": "Python 3 (ipykernel)",
   "language": "python",
   "name": "python3"
  },
  "language_info": {
   "codemirror_mode": {
    "name": "ipython",
    "version": 3
   },
   "file_extension": ".py",
   "mimetype": "text/x-python",
   "name": "python",
   "nbconvert_exporter": "python",
   "pygments_lexer": "ipython3",
   "version": "3.11.4"
  }
 },
 "nbformat": 4,
 "nbformat_minor": 5
}
