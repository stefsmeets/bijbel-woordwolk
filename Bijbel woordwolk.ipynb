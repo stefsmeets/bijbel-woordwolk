{
 "cells": [
  {
   "cell_type": "code",
   "execution_count": null,
   "id": "9a8a69c2",
   "metadata": {},
   "outputs": [],
   "source": [
    "import wordcloud as wc\n",
    "import pandas as pd\n",
    "import matplotlib.pyplot as plt\n",
    "from collections import Counter\n",
    "\n",
    "import spacy\n",
    "nlp = spacy.load('nl_core_news_sm')"
   ]
  },
  {
   "cell_type": "code",
   "execution_count": null,
   "id": "9060bfc7",
   "metadata": {},
   "outputs": [],
   "source": [
    "df = pd.read_csv('data/BGT-Bijbel.csv', sep='|')"
   ]
  },
  {
   "cell_type": "code",
   "execution_count": null,
   "id": "ae655a41",
   "metadata": {},
   "outputs": [],
   "source": [
    "books = df['book'].unique()\n",
    "books"
   ]
  },
  {
   "cell_type": "code",
   "execution_count": null,
   "id": "f0c6b165",
   "metadata": {
    "scrolled": false
   },
   "outputs": [],
   "source": [
    "def get_counts(book):\n",
    "    text = ' '.join(df[df['book'] == book]['text'])\n",
    "    doc = nlp(text)\n",
    "    # for token in doc:\n",
    "    #     print(token.text, token.pos_, token.dep_)\n",
    "    poss = ('NOUN', 'PROPN', 'ADJ', 'VERB')\n",
    "    tokens = (token.text for token in doc if token.pos_ in poss)\n",
    "    counts = Counter(tokens)\n",
    "    return counts\n",
    "\n",
    "def get_wordcloud(counts):\n",
    "    wordcloud = wc.WordCloud(\n",
    "        width=600, \n",
    "        height=600, \n",
    "        colormap='jet', \n",
    "        background_color='white'\n",
    "    ).generate_from_frequencies(counts)\n",
    "    \n",
    "    return wordcloud"
   ]
  },
  {
   "cell_type": "code",
   "execution_count": null,
   "id": "1784436a",
   "metadata": {
    "scrolled": false
   },
   "outputs": [],
   "source": [
    "all_counts = Counter()\n",
    "\n",
    "for book in books:\n",
    "    counts = get_counts(book)\n",
    "    wordcloud = get_wordcloud(counts)\n",
    "    \n",
    "    all_counts.update(counts)\n",
    "\n",
    "    fig, ax = plt.subplots(figsize=(6,6))\n",
    "\n",
    "    ax.imshow(wordcloud, interpolation='bilinear')\n",
    "    ax.set_axis_off()\n",
    "    ax.set_title(book)\n",
    "    plt.show()"
   ]
  },
  {
   "cell_type": "code",
   "execution_count": null,
   "id": "f7ed071d",
   "metadata": {},
   "outputs": [],
   "source": [
    "fig, ax = plt.subplots(figsize=(10,10))\n",
    "\n",
    "wordcloud = get_wordcloud(all_counts)\n",
    "ax.imshow(wordcloud, interpolation='bilinear')\n",
    "ax.set_axis_off()\n",
    "ax.set_title('Bijbel')\n",
    "plt.show()"
   ]
  },
  {
   "cell_type": "code",
   "execution_count": null,
   "id": "bbe68f3e",
   "metadata": {},
   "outputs": [],
   "source": []
  }
 ],
 "metadata": {
  "kernelspec": {
   "display_name": "Python 3 (ipykernel)",
   "language": "python",
   "name": "python3"
  },
  "language_info": {
   "codemirror_mode": {
    "name": "ipython",
    "version": 3
   },
   "file_extension": ".py",
   "mimetype": "text/x-python",
   "name": "python",
   "nbconvert_exporter": "python",
   "pygments_lexer": "ipython3",
   "version": "3.10.7"
  }
 },
 "nbformat": 4,
 "nbformat_minor": 5
}
